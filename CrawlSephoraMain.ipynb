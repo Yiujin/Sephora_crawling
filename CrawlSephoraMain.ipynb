{
 "cells": [
  {
   "cell_type": "code",
   "execution_count": 4,
   "metadata": {},
   "outputs": [],
   "source": [
    "# from DBConnection import DBConnection\n",
    "# import pandas as pd\n",
    "from utils import getDBInfo, getSQL, assert_df\n",
    "from SephoraCrawler import SephoraCrawler\n",
    "from  tqdm import tqdm"
   ]
  },
  {
   "cell_type": "code",
   "execution_count": 3,
   "metadata": {},
   "outputs": [
    {
     "name": "stdout",
     "output_type": "stream",
     "text": [
      "sephora_eye_data_210209 의 행 개수:  54\n",
      "sephora_face_base_data_210209 의 행 개수:  88\n",
      "sephora_lip_color_data_210209 의 행 개수:  20\n",
      "sephora_moisturizers_data_210209 의 행 개수:  50\n"
     ]
    },
    {
     "data": {
      "text/html": [
       "<div>\n",
       "<style scoped>\n",
       "    .dataframe tbody tr th:only-of-type {\n",
       "        vertical-align: middle;\n",
       "    }\n",
       "\n",
       "    .dataframe tbody tr th {\n",
       "        vertical-align: top;\n",
       "    }\n",
       "\n",
       "    .dataframe thead th {\n",
       "        text-align: right;\n",
       "    }\n",
       "</style>\n",
       "<table border=\"1\" class=\"dataframe\">\n",
       "  <thead>\n",
       "    <tr style=\"text-align: right;\">\n",
       "      <th></th>\n",
       "      <th>series_id</th>\n",
       "      <th>item_no</th>\n",
       "      <th>url</th>\n",
       "      <th>product_code</th>\n",
       "      <th>score</th>\n",
       "      <th>review_count</th>\n",
       "      <th>like_count</th>\n",
       "      <th>is_use</th>\n",
       "      <th>table_name</th>\n",
       "    </tr>\n",
       "  </thead>\n",
       "  <tbody>\n",
       "    <tr>\n",
       "      <th>0</th>\n",
       "      <td>1917</td>\n",
       "      <td>1957422</td>\n",
       "      <td>https://www.sephora.com/product/moonchild-glow...</td>\n",
       "      <td>P41983035</td>\n",
       "      <td>0.0</td>\n",
       "      <td>0.0</td>\n",
       "      <td>64782</td>\n",
       "      <td>1</td>\n",
       "      <td>sephora_eye_data_210209</td>\n",
       "    </tr>\n",
       "    <tr>\n",
       "      <th>1</th>\n",
       "      <td>3783</td>\n",
       "      <td>2235976</td>\n",
       "      <td>https://www.sephora.com/product/phenomen-eyes-...</td>\n",
       "      <td>P446831</td>\n",
       "      <td>0.0</td>\n",
       "      <td>0.0</td>\n",
       "      <td>179</td>\n",
       "      <td>-1</td>\n",
       "      <td>sephora_eye_data_210209</td>\n",
       "    </tr>\n",
       "    <tr>\n",
       "      <th>2</th>\n",
       "      <td>3826</td>\n",
       "      <td>2264620</td>\n",
       "      <td>https://www.sephora.com/product/badgal-bang-vo...</td>\n",
       "      <td>P447372</td>\n",
       "      <td>0.0</td>\n",
       "      <td>0.0</td>\n",
       "      <td>873</td>\n",
       "      <td>-1</td>\n",
       "      <td>sephora_eye_data_210209</td>\n",
       "    </tr>\n",
       "    <tr>\n",
       "      <th>3</th>\n",
       "      <td>3873</td>\n",
       "      <td>2274132</td>\n",
       "      <td>https://www.sephora.com/product/brows-on-lash-...</td>\n",
       "      <td>P447765</td>\n",
       "      <td>0.0</td>\n",
       "      <td>0.0</td>\n",
       "      <td>563</td>\n",
       "      <td>-1</td>\n",
       "      <td>sephora_eye_data_210209</td>\n",
       "    </tr>\n",
       "    <tr>\n",
       "      <th>4</th>\n",
       "      <td>3893</td>\n",
       "      <td>2266732</td>\n",
       "      <td>https://www.sephora.com/product/partners-in-cr...</td>\n",
       "      <td>P448504</td>\n",
       "      <td>0.0</td>\n",
       "      <td>0.0</td>\n",
       "      <td>868</td>\n",
       "      <td>-1</td>\n",
       "      <td>sephora_eye_data_210209</td>\n",
       "    </tr>\n",
       "    <tr>\n",
       "      <th>...</th>\n",
       "      <td>...</td>\n",
       "      <td>...</td>\n",
       "      <td>...</td>\n",
       "      <td>...</td>\n",
       "      <td>...</td>\n",
       "      <td>...</td>\n",
       "      <td>...</td>\n",
       "      <td>...</td>\n",
       "      <td>...</td>\n",
       "    </tr>\n",
       "    <tr>\n",
       "      <th>207</th>\n",
       "      <td>505086</td>\n",
       "      <td>2437580</td>\n",
       "      <td>https://www.sephora.com/product/sk-ii-skinpowe...</td>\n",
       "      <td>P468411</td>\n",
       "      <td>0.0</td>\n",
       "      <td>0.0</td>\n",
       "      <td>224</td>\n",
       "      <td>1</td>\n",
       "      <td>sephora_moisturizers_data_210209</td>\n",
       "    </tr>\n",
       "    <tr>\n",
       "      <th>208</th>\n",
       "      <td>505089</td>\n",
       "      <td>2437598</td>\n",
       "      <td>https://www.sephora.com/product/sk-ii-skinpowe...</td>\n",
       "      <td>P468409</td>\n",
       "      <td>0.0</td>\n",
       "      <td>0.0</td>\n",
       "      <td>253</td>\n",
       "      <td>1</td>\n",
       "      <td>sephora_moisturizers_data_210209</td>\n",
       "    </tr>\n",
       "    <tr>\n",
       "      <th>209</th>\n",
       "      <td>505235</td>\n",
       "      <td>2421840</td>\n",
       "      <td>https://www.sephora.com/product/bobbi-brown-vi...</td>\n",
       "      <td>P468634</td>\n",
       "      <td>0.0</td>\n",
       "      <td>0.0</td>\n",
       "      <td>1285</td>\n",
       "      <td>1</td>\n",
       "      <td>sephora_moisturizers_data_210209</td>\n",
       "    </tr>\n",
       "    <tr>\n",
       "      <th>210</th>\n",
       "      <td>505236</td>\n",
       "      <td>2342061</td>\n",
       "      <td>https://www.sephora.com/product/shiseido-vital...</td>\n",
       "      <td>P457854</td>\n",
       "      <td>0.0</td>\n",
       "      <td>0.0</td>\n",
       "      <td>224</td>\n",
       "      <td>1</td>\n",
       "      <td>sephora_moisturizers_data_210209</td>\n",
       "    </tr>\n",
       "    <tr>\n",
       "      <th>211</th>\n",
       "      <td>505243</td>\n",
       "      <td>2438430</td>\n",
       "      <td>https://www.sephora.com/product/clarins-total-...</td>\n",
       "      <td>P467757</td>\n",
       "      <td>0.0</td>\n",
       "      <td>0.0</td>\n",
       "      <td>268</td>\n",
       "      <td>1</td>\n",
       "      <td>sephora_moisturizers_data_210209</td>\n",
       "    </tr>\n",
       "  </tbody>\n",
       "</table>\n",
       "<p>212 rows × 9 columns</p>\n",
       "</div>"
      ],
      "text/plain": [
       "     series_id  item_no                                                url  \\\n",
       "0         1917  1957422  https://www.sephora.com/product/moonchild-glow...   \n",
       "1         3783  2235976  https://www.sephora.com/product/phenomen-eyes-...   \n",
       "2         3826  2264620  https://www.sephora.com/product/badgal-bang-vo...   \n",
       "3         3873  2274132  https://www.sephora.com/product/brows-on-lash-...   \n",
       "4         3893  2266732  https://www.sephora.com/product/partners-in-cr...   \n",
       "..         ...      ...                                                ...   \n",
       "207     505086  2437580  https://www.sephora.com/product/sk-ii-skinpowe...   \n",
       "208     505089  2437598  https://www.sephora.com/product/sk-ii-skinpowe...   \n",
       "209     505235  2421840  https://www.sephora.com/product/bobbi-brown-vi...   \n",
       "210     505236  2342061  https://www.sephora.com/product/shiseido-vital...   \n",
       "211     505243  2438430  https://www.sephora.com/product/clarins-total-...   \n",
       "\n",
       "    product_code  score  review_count  like_count  is_use  \\\n",
       "0      P41983035    0.0           0.0       64782       1   \n",
       "1        P446831    0.0           0.0         179      -1   \n",
       "2        P447372    0.0           0.0         873      -1   \n",
       "3        P447765    0.0           0.0         563      -1   \n",
       "4        P448504    0.0           0.0         868      -1   \n",
       "..           ...    ...           ...         ...     ...   \n",
       "207      P468411    0.0           0.0         224       1   \n",
       "208      P468409    0.0           0.0         253       1   \n",
       "209      P468634    0.0           0.0        1285       1   \n",
       "210      P457854    0.0           0.0         224       1   \n",
       "211      P467757    0.0           0.0         268       1   \n",
       "\n",
       "                           table_name  \n",
       "0             sephora_eye_data_210209  \n",
       "1             sephora_eye_data_210209  \n",
       "2             sephora_eye_data_210209  \n",
       "3             sephora_eye_data_210209  \n",
       "4             sephora_eye_data_210209  \n",
       "..                                ...  \n",
       "207  sephora_moisturizers_data_210209  \n",
       "208  sephora_moisturizers_data_210209  \n",
       "209  sephora_moisturizers_data_210209  \n",
       "210  sephora_moisturizers_data_210209  \n",
       "211  sephora_moisturizers_data_210209  \n",
       "\n",
       "[212 rows x 9 columns]"
      ]
     },
     "metadata": {},
     "output_type": "display_data"
    },
    {
     "name": "stderr",
     "output_type": "stream",
     "text": [
      "[WDM] - ====== WebDriver manager ======\n",
      "[WDM] - Current google-chrome version is 88.0.4324\n",
      "[WDM] - Get LATEST driver version for 88.0.4324\n"
     ]
    },
    {
     "name": "stdout",
     "output_type": "stream",
     "text": [
      "\n",
      "\n"
     ]
    },
    {
     "name": "stderr",
     "output_type": "stream",
     "text": [
      "[WDM] - Driver [/Users/mycelebs/.wdm/drivers/chromedriver/mac64/88.0.4324.96/chromedriver] found in cache\n",
      "  0%|          | 0/12 [00:00<?, ?it/s]/Users/mycelebs/opt/anaconda3/envs/glami/lib/python3.7/site-packages/pandas/core/indexing.py:1637: SettingWithCopyWarning: \n",
      "A value is trying to be set on a copy of a slice from a DataFrame\n",
      "\n",
      "See the caveats in the documentation: https://pandas.pydata.org/pandas-docs/stable/user_guide/indexing.html#returning-a-view-versus-a-copy\n",
      "  self._setitem_single_block(indexer, value, name)\n",
      "  8%|▊         | 1/12 [00:07<01:18,  7.12s/it]"
     ]
    },
    {
     "name": "stdout",
     "output_type": "stream",
     "text": [
      "-1 -1\n"
     ]
    },
    {
     "name": "stderr",
     "output_type": "stream",
     "text": [
      " 17%|█▋        | 2/12 [00:11<00:56,  5.68s/it]"
     ]
    },
    {
     "name": "stdout",
     "output_type": "stream",
     "text": [
      "-1 -1\n"
     ]
    },
    {
     "name": "stderr",
     "output_type": "stream",
     "text": [
      " 25%|██▌       | 3/12 [00:16<00:45,  5.09s/it]"
     ]
    },
    {
     "name": "stdout",
     "output_type": "stream",
     "text": [
      "-1 -1\n"
     ]
    },
    {
     "name": "stderr",
     "output_type": "stream",
     "text": [
      " 33%|███▎      | 4/12 [00:20<00:38,  4.87s/it]"
     ]
    },
    {
     "name": "stdout",
     "output_type": "stream",
     "text": [
      "-1 -1\n",
      "case 2 start\n"
     ]
    },
    {
     "name": "stderr",
     "output_type": "stream",
     "text": [
      " 42%|████▏     | 5/12 [00:32<00:52,  7.51s/it]"
     ]
    },
    {
     "name": "stdout",
     "output_type": "stream",
     "text": [
      "['Ratings & Reviews (0)', 'Write a review']\n",
      "case2 no id: list index out of range\n",
      "0 0\n"
     ]
    },
    {
     "name": "stderr",
     "output_type": "stream",
     "text": [
      " 50%|█████     | 6/12 [00:37<00:38,  6.43s/it]"
     ]
    },
    {
     "name": "stdout",
     "output_type": "stream",
     "text": [
      "-1 -1\n",
      "case 2 start\n"
     ]
    },
    {
     "name": "stderr",
     "output_type": "stream",
     "text": [
      " 58%|█████▊    | 7/12 [00:48<00:39,  7.96s/it]"
     ]
    },
    {
     "name": "stdout",
     "output_type": "stream",
     "text": [
      "['Ratings & Reviews (0)', 'Write a review']\n",
      "case2 no id: list index out of range\n",
      "0 0\n",
      "case 2 start\n"
     ]
    },
    {
     "name": "stderr",
     "output_type": "stream",
     "text": [
      " 67%|██████▋   | 8/12 [00:59<00:36,  9.14s/it]"
     ]
    },
    {
     "name": "stdout",
     "output_type": "stream",
     "text": [
      "['Ratings & Reviews (0)', 'Write a review']\n",
      "case2 no id: list index out of range\n",
      "0 0\n",
      "case 2 start\n"
     ]
    },
    {
     "name": "stderr",
     "output_type": "stream",
     "text": [
      " 75%|███████▌  | 9/12 [01:11<00:29,  9.83s/it]"
     ]
    },
    {
     "name": "stdout",
     "output_type": "stream",
     "text": [
      "['Ratings & Reviews (0)', 'Write a review']\n",
      "case2 no id: list index out of range\n",
      "0 0\n",
      "case 2 start\n"
     ]
    },
    {
     "name": "stderr",
     "output_type": "stream",
     "text": [
      " 83%|████████▎ | 10/12 [01:22<00:20, 10.22s/it]"
     ]
    },
    {
     "name": "stdout",
     "output_type": "stream",
     "text": [
      "['']\n",
      "case2 no id: list index out of range\n",
      "url: https://www.sephora.com/product/bobbi-brown-vitamin-enriched-face-base-jumbo-P468634?skuId=2421840\n",
      "0 0\n",
      "case 2 start\n"
     ]
    },
    {
     "name": "stderr",
     "output_type": "stream",
     "text": [
      " 92%|█████████▏| 11/12 [01:33<00:10, 10.60s/it]"
     ]
    },
    {
     "name": "stdout",
     "output_type": "stream",
     "text": [
      "['']\n",
      "case2 no id: list index out of range\n",
      "url: https://www.sephora.com/product/shiseido-vital-perfection-uplifting-firming-cream-day-cream-P457854?skuId=2342061\n",
      "0 0\n",
      "case 2 start\n"
     ]
    },
    {
     "name": "stderr",
     "output_type": "stream",
     "text": [
      "100%|██████████| 12/12 [01:44<00:00,  8.74s/it]"
     ]
    },
    {
     "name": "stdout",
     "output_type": "stream",
     "text": [
      "['Ratings & Reviews (0)', 'Write a review']\n",
      "case2 no id: list index out of range\n",
      "0 0\n",
      "----------------------크롤링 끝\n"
     ]
    },
    {
     "name": "stderr",
     "output_type": "stream",
     "text": [
      "\n"
     ]
    },
    {
     "data": {
      "text/html": [
       "<div>\n",
       "<style scoped>\n",
       "    .dataframe tbody tr th:only-of-type {\n",
       "        vertical-align: middle;\n",
       "    }\n",
       "\n",
       "    .dataframe tbody tr th {\n",
       "        vertical-align: top;\n",
       "    }\n",
       "\n",
       "    .dataframe thead th {\n",
       "        text-align: right;\n",
       "    }\n",
       "</style>\n",
       "<table border=\"1\" class=\"dataframe\">\n",
       "  <thead>\n",
       "    <tr style=\"text-align: right;\">\n",
       "      <th></th>\n",
       "      <th>series_id</th>\n",
       "      <th>product_code</th>\n",
       "      <th>item_no</th>\n",
       "      <th>score</th>\n",
       "      <th>review_count</th>\n",
       "      <th>table_name</th>\n",
       "    </tr>\n",
       "  </thead>\n",
       "  <tbody>\n",
       "    <tr>\n",
       "      <th>0</th>\n",
       "      <td>1917</td>\n",
       "      <td>P41983035</td>\n",
       "      <td>1957422</td>\n",
       "      <td>0.0</td>\n",
       "      <td>0.0</td>\n",
       "      <td>sephora_eye_data_210209</td>\n",
       "    </tr>\n",
       "    <tr>\n",
       "      <th>1</th>\n",
       "      <td>3783</td>\n",
       "      <td>P446831</td>\n",
       "      <td>2235976</td>\n",
       "      <td>0.0</td>\n",
       "      <td>0.0</td>\n",
       "      <td>sephora_eye_data_210209</td>\n",
       "    </tr>\n",
       "    <tr>\n",
       "      <th>2</th>\n",
       "      <td>3826</td>\n",
       "      <td>P447372</td>\n",
       "      <td>2264620</td>\n",
       "      <td>0.0</td>\n",
       "      <td>0.0</td>\n",
       "      <td>sephora_eye_data_210209</td>\n",
       "    </tr>\n",
       "    <tr>\n",
       "      <th>3</th>\n",
       "      <td>3873</td>\n",
       "      <td>P447765</td>\n",
       "      <td>2274132</td>\n",
       "      <td>0.0</td>\n",
       "      <td>0.0</td>\n",
       "      <td>sephora_eye_data_210209</td>\n",
       "    </tr>\n",
       "    <tr>\n",
       "      <th>4</th>\n",
       "      <td>3893</td>\n",
       "      <td>P448504</td>\n",
       "      <td>2266732</td>\n",
       "      <td>0.0</td>\n",
       "      <td>0.0</td>\n",
       "      <td>sephora_eye_data_210209</td>\n",
       "    </tr>\n",
       "    <tr>\n",
       "      <th>...</th>\n",
       "      <td>...</td>\n",
       "      <td>...</td>\n",
       "      <td>...</td>\n",
       "      <td>...</td>\n",
       "      <td>...</td>\n",
       "      <td>...</td>\n",
       "    </tr>\n",
       "    <tr>\n",
       "      <th>207</th>\n",
       "      <td>505086</td>\n",
       "      <td>P468411</td>\n",
       "      <td>2437580</td>\n",
       "      <td>0.0</td>\n",
       "      <td>0.0</td>\n",
       "      <td>sephora_moisturizers_data_210209</td>\n",
       "    </tr>\n",
       "    <tr>\n",
       "      <th>208</th>\n",
       "      <td>505089</td>\n",
       "      <td>P468409</td>\n",
       "      <td>2437598</td>\n",
       "      <td>0.0</td>\n",
       "      <td>0.0</td>\n",
       "      <td>sephora_moisturizers_data_210209</td>\n",
       "    </tr>\n",
       "    <tr>\n",
       "      <th>209</th>\n",
       "      <td>505235</td>\n",
       "      <td>P468634</td>\n",
       "      <td>2421840</td>\n",
       "      <td>0.0</td>\n",
       "      <td>0.0</td>\n",
       "      <td>sephora_moisturizers_data_210209</td>\n",
       "    </tr>\n",
       "    <tr>\n",
       "      <th>210</th>\n",
       "      <td>505236</td>\n",
       "      <td>P457854</td>\n",
       "      <td>2342061</td>\n",
       "      <td>0.0</td>\n",
       "      <td>0.0</td>\n",
       "      <td>sephora_moisturizers_data_210209</td>\n",
       "    </tr>\n",
       "    <tr>\n",
       "      <th>211</th>\n",
       "      <td>505243</td>\n",
       "      <td>P467757</td>\n",
       "      <td>2438430</td>\n",
       "      <td>0.0</td>\n",
       "      <td>0.0</td>\n",
       "      <td>sephora_moisturizers_data_210209</td>\n",
       "    </tr>\n",
       "  </tbody>\n",
       "</table>\n",
       "<p>212 rows × 6 columns</p>\n",
       "</div>"
      ],
      "text/plain": [
       "     series_id product_code  item_no  score  review_count  \\\n",
       "0         1917    P41983035  1957422    0.0           0.0   \n",
       "1         3783      P446831  2235976    0.0           0.0   \n",
       "2         3826      P447372  2264620    0.0           0.0   \n",
       "3         3873      P447765  2274132    0.0           0.0   \n",
       "4         3893      P448504  2266732    0.0           0.0   \n",
       "..         ...          ...      ...    ...           ...   \n",
       "207     505086      P468411  2437580    0.0           0.0   \n",
       "208     505089      P468409  2437598    0.0           0.0   \n",
       "209     505235      P468634  2421840    0.0           0.0   \n",
       "210     505236      P457854  2342061    0.0           0.0   \n",
       "211     505243      P467757  2438430    0.0           0.0   \n",
       "\n",
       "                           table_name  \n",
       "0             sephora_eye_data_210209  \n",
       "1             sephora_eye_data_210209  \n",
       "2             sephora_eye_data_210209  \n",
       "3             sephora_eye_data_210209  \n",
       "4             sephora_eye_data_210209  \n",
       "..                                ...  \n",
       "207  sephora_moisturizers_data_210209  \n",
       "208  sephora_moisturizers_data_210209  \n",
       "209  sephora_moisturizers_data_210209  \n",
       "210  sephora_moisturizers_data_210209  \n",
       "211  sephora_moisturizers_data_210209  \n",
       "\n",
       "[212 rows x 6 columns]"
      ]
     },
     "metadata": {},
     "output_type": "display_data"
    },
    {
     "name": "stdout",
     "output_type": "stream",
     "text": [
      "결과물 엑셀로 저장 완료 : review_rating_result_210209.xlsx\n"
     ]
    }
   ],
   "source": [
    "if __name__ == \"__main__\":\n",
    "#     MAKE_LIST = True\n",
    "    MAKE_LIST = False\n",
    "    \n",
    "    CRAWLING_MODE = True\n",
    "#     CRAWLING_MODE = False\n",
    "    \n",
    "    CHECK = False\n",
    "    \n",
    "    # get db connect-info\n",
    "    json_file = 'ujinDB.json'\n",
    "    mycelebsDBInfo = getDBInfo(json_file, 'base')\n",
    "    \n",
    "    # table  name list\n",
    "    DATE = '210209'\n",
    "    table_name = [f'sephora_eye_data_{DATE}',  f'sephora_face_base_data_{DATE}', f'sephora_lip_color_data_{DATE}', f'sephora_moisturizers_data_{DATE}']\n",
    "    \n",
    "#     ob = DBConnection(mycelebsDBInfo, port = 3306, db_name ='jangho')\n",
    "    df = getSQL(mycelebsDBInfo, table_name)\n",
    "    display(df)\n",
    "    \n",
    "    \n",
    "        # 수집해야하는 list excel 로 만들기\n",
    "    if MAKE_LIST:\n",
    "        df.to_excel(f'review_rating_list_{DATE}.xlsx', index = False)\n",
    "        print(f\"save review_rating_list_{DATE}.xlsx\")\n",
    "    \n",
    "    #  크롤링 \n",
    "    if CRAWLING_MODE:\n",
    "        cc = SephoraCrawler()\n",
    "#         for idx in tqdm(range(len(df))):\n",
    "        for idx in tqdm(range(200, 212)):\n",
    "            url = df['url'].iloc[idx]\n",
    "            r, s = cc.getContentByURL(url)\n",
    "            print(r,s)\n",
    "\n",
    "            df['review_count'].iloc[idx] = r\n",
    "            df['score'].iloc[idx] = s\n",
    "            \n",
    "        print(\"----------------------크롤링 끝\")\n",
    "    \n",
    "        # 크롤링 잘  됐나 확인\n",
    "        CHECK = assert_df(df)\n",
    "        cc.driver.quit()\n",
    "    \n",
    "    if CHECK:\n",
    "        result = df[['series_id', 'product_code', 'item_no', 'score', 'review_count' , 'table_name']]\n",
    "        display(result)\n",
    "        result.to_excel(f\"review_rating_result_{DATE}.xlsx\", encoding = 'utf-8-sig', index = False)\n",
    "        print(f\"결과물 엑셀로 저장 완료 : review_rating_result_{DATE}.xlsx\")\n",
    "    "
   ]
  },
  {
   "cell_type": "code",
   "execution_count": null,
   "metadata": {},
   "outputs": [],
   "source": []
  },
  {
   "cell_type": "code",
   "execution_count": null,
   "metadata": {},
   "outputs": [],
   "source": []
  }
 ],
 "metadata": {
  "kernelspec": {
   "display_name": "Python 3",
   "language": "python",
   "name": "python3"
  },
  "language_info": {
   "codemirror_mode": {
    "name": "ipython",
    "version": 3
   },
   "file_extension": ".py",
   "mimetype": "text/x-python",
   "name": "python",
   "nbconvert_exporter": "python",
   "pygments_lexer": "ipython3",
   "version": "3.7.9"
  }
 },
 "nbformat": 4,
 "nbformat_minor": 4
}
